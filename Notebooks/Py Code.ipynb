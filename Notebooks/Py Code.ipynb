{
 "cells": [
  {
   "cell_type": "markdown",
   "metadata": {},
   "source": [
    "# Config.py"
   ]
  },
  {
   "cell_type": "code",
   "execution_count": 3,
   "metadata": {},
   "outputs": [],
   "source": [
    "# TRAINING_PATH = \"data/training_set_VU_DM.csv\"\n",
    "# TEST_PATH = \"data/test_set_VU_DM.csv\"\n",
    "\n",
    "TRAINING_PATH = \"train_subset.csv\"\n",
    "TEST_PATH = \"test_subset.csv\""
   ]
  },
  {
   "cell_type": "markdown",
   "metadata": {},
   "source": [
    "# Features.py"
   ]
  },
  {
   "cell_type": "code",
   "execution_count": 4,
   "metadata": {},
   "outputs": [],
   "source": [
    "def add_datetime_features(df):\n",
    "    df['month'] = df['date_time'].dt.month\n",
    "    df['dayofweek'] = df['date_time'].dt.dayofweek\n",
    "    df['hour'] = df['date_time'].dt.hour\n",
    "    return df\n",
    "\n",
    "def remove_travel_agents(df):\n",
    "    \"\"\"\n",
    "    Remove travel agents defined as having more than 20 bookings\n",
    "    \"\"\"\n",
    "    # Get all unique user ids\n",
    "    unique_users = df.user_id.unique()\n",
    "    # Remove all non-bookings to make counting easier\n",
    "    t1 = df[df.is_booking != 0]\n",
    "    for user in unique_users:\n",
    "        # Count the number of rows under a single user\n",
    "        bookings = len(t1.loc[t1['user_id'] == user])\n",
    "        if bookings >= 20:\n",
    "            # Remove the travel agent from dataset\n",
    "            df = df[df.user_id != user]\n",
    "    return df"
   ]
  },
  {
   "cell_type": "markdown",
   "metadata": {},
   "source": [
    "# Preprocess.py"
   ]
  },
  {
   "cell_type": "code",
   "execution_count": 5,
   "metadata": {},
   "outputs": [],
   "source": [
    "# Install relevant packages\n",
    "import numpy as np\n",
    "import pandas as pd\n",
    "from sklearn.model_selection import GroupShuffleSplit\n",
    "\n",
    "\n",
    "def add_features(df):\n",
    "    # df = remove_travel_agents(df)\n",
    "    # df = add_datetime_features(df)\n",
    "    return df\n",
    "\n",
    "def normalize(df):\n",
    "    return df\n",
    "\n",
    "def calculate_score(df):\n",
    "    \"\"\"\n",
    "    calculates final score used to predict rank\n",
    "    \"\"\"\n",
    "    df['booking_bool'] *= 5.0\n",
    "    score = df[['booking_bool', 'click_bool']].max(axis=1)\n",
    "    return score\n",
    "\n",
    "def train_val_split(X, y, groups, val_size=.7):\n",
    "    \"\"\"\n",
    "    Splits training data based on groups\n",
    "    \"\"\"\n",
    "    gss = GroupShuffleSplit(n_splits=1, train_size=val_size, random_state=42)\n",
    "    train_indices, val_indices = next(gss.split(X, y, groups))\n",
    "\n",
    "    X_train, y_train = X.loc[train_indices], y.loc[train_indices]\n",
    "    X_val, y_val = X.loc[val_indices], y.loc[val_indices]\n",
    "\n",
    "    print(\"Training / Validation shape:\")\n",
    "    print((X_train.shape, y_train.shape), (X_val.shape, y_val.shape))\n",
    "    return X_train, y_train, X_val, y_val\n",
    "\n",
    "def load_train_val():\n",
    "    df = pd.read_csv(TRAINING_PATH, parse_dates=['date_time'])\n",
    "    df['score'] = calculate_score(df)\n",
    "\n",
    "    # Add engineered features\n",
    "    df = add_features(df)\n",
    "    # Normalize features\n",
    "    df = normalize(df)\n",
    "\n",
    "    X, y = df.drop(['date_time', 'position', 'score', 'click_bool', 'booking_bool', 'gross_bookings_usd'], axis=1), df[['srch_id', 'score']]\n",
    "    groups = df['srch_id']\n",
    "    return train_val_split(X, y, groups)\n",
    "\n",
    "def load_test():\n",
    "    df = pd.read_csv(TEST_PATH, parse_dates=['date_time'])\n",
    "    df = add_features(df)\n",
    "    X = df.drop(['date_time'], axis=1)\n",
    "    return X"
   ]
  },
  {
   "cell_type": "markdown",
   "metadata": {},
   "source": [
    "# Main.py"
   ]
  },
  {
   "cell_type": "code",
   "execution_count": 28,
   "metadata": {},
   "outputs": [],
   "source": [
    "from sklearn.metrics import ndcg_score\n",
    "from xgboost import XGBRanker\n",
    "\n",
    "def make_submission(model):\n",
    "    X_test = load_test()\n",
    "    with open('submission.csv', 'w') as fout:\n",
    "        fout.write(\"srch_id, prop_id\\n\")\n",
    "        for srch_id, group in X_test.groupby(['srch_id']):\n",
    "            prop_ids = make_ranking(group, model)\n",
    "            for prop_id in prop_ids:\n",
    "                fout.write(f\"{srch_id},{prop_id}\\n\")\n",
    "    print(\"Made submission\")\n",
    "\n",
    "def make_ranking(X_test, model):\n",
    "    predictions = predict(model, X_test)\n",
    "    sorted_indices = np.argsort(predictions)\n",
    "    prop_ids = X_test['prop_id'].iloc[sorted_indices]\n",
    "    return prop_ids\n",
    "\n",
    "def evaluate_model(X_data, y_data):\n",
    "    # Evaluate predictions\n",
    "    gt_values = y_data.groupby('srch_id')['score'].apply(np.array).values\n",
    "    predictions = (X_data.groupby('srch_id').apply(lambda x: predict(model, x))).values\n",
    "    # prop_id_predictions = X_train.groupby('srch_id')['prop_id'].apply(np.array).values\n",
    "\n",
    "    ndcg_score_list = []\n",
    "    for i in range(len(predictions)):\n",
    "        score = ndcg_score(gt_values[i].reshape(1, -1), predictions[i].reshape(1, -1), k=5)\n",
    "        ndcg_score_list.append(score)\n",
    "    mean_score = np.mean(np.array(ndcg_score_list))\n",
    "    print(\"NDCG@5 Train Score:\", mean_score)\n",
    "\n",
    "def predict(model, df):\n",
    "    return model.predict(df.loc[:, ~df.columns.isin(['srch_id'])])\n",
    "\n",
    "def get_gt_values(df):\n",
    "    return df['score']\n",
    "\n",
    "def run():\n",
    "    # Load the training, validation data\n",
    "    X_train, y_train, X_val, y_val = load_train_val()\n",
    "    groups = X_train.groupby('srch_id').size().to_frame('size')['size'].to_numpy()\n",
    "    x_train_values = X_train.drop(['srch_id'], axis=1)\n",
    "    # Train LambdaMART model\n",
    "    model = XGBRanker(eval_metric='ndcg@5')\n",
    "    y_train_scores = y_train['score']\n",
    "    model.fit(x_train_values, y_train_scores, group=groups, verbose=True)\n",
    "\n",
    "    # Evaluate training predictions\n",
    "    evaluate_model(X_train, y_train)\n",
    "    # Evaluate validation predictions\n",
    "    evaluate_model(X_val, y_val)\n",
    "\n",
    "    return model"
   ]
  },
  {
   "cell_type": "markdown",
   "metadata": {},
   "source": [
    "# Run main script ---------------------------------------------------------------------------------------"
   ]
  },
  {
   "cell_type": "code",
   "execution_count": 8,
   "metadata": {},
   "outputs": [
    {
     "name": "stdout",
     "output_type": "stream",
     "text": [
      "Training / Validation shape:\n",
      "((174605, 49), (174605, 2)) ((74329, 49), (74329, 2))\n"
     ]
    }
   ],
   "source": [
    "load_train_val()"
   ]
  },
  {
   "cell_type": "code",
   "execution_count": 10,
   "metadata": {},
   "outputs": [
    {
     "data": {
      "text/plain": [
       "array([32,  5, 33, ..., 13, 32, 21], dtype=int64)"
      ]
     },
     "execution_count": 10,
     "metadata": {},
     "output_type": "execute_result"
    }
   ],
   "source": [
    "X_train.groupby('srch_id').size().to_frame('size')['size'].to_numpy()"
   ]
  },
  {
   "cell_type": "code",
   "execution_count": 12,
   "metadata": {},
   "outputs": [],
   "source": [
    "X_train.drop(['srch_id'], axis=1)"
   ]
  },
  {
   "cell_type": "code",
   "execution_count": 13,
   "metadata": {},
   "outputs": [],
   "source": [
    "XGBRanker(eval_metric='ndcg@5')"
   ]
  },
  {
   "cell_type": "code",
   "execution_count": 16,
   "metadata": {},
   "outputs": [],
   "source": [
    "y_train['score']"
   ]
  },
  {
   "cell_type": "code",
   "execution_count": 17,
   "metadata": {},
   "outputs": [
    {
     "data": {
      "text/plain": [
       "XGBRanker(base_score=0.5, booster='gbtree', callbacks=None, colsample_bylevel=1,\n",
       "          colsample_bynode=1, colsample_bytree=1, early_stopping_rounds=None,\n",
       "          enable_categorical=False, eval_metric='ndcg@5', gamma=0, gpu_id=-1,\n",
       "          grow_policy='depthwise', importance_type=None,\n",
       "          interaction_constraints='', learning_rate=0.300000012, max_bin=256,\n",
       "          max_cat_to_onehot=4, max_delta_step=0, max_depth=6, max_leaves=0,\n",
       "          min_child_weight=1, missing=nan, monotone_constraints='()',\n",
       "          n_estimators=100, n_jobs=0, num_parallel_tree=1, predictor='auto',\n",
       "          random_state=0, reg_alpha=0, reg_lambda=1, ...)"
      ]
     },
     "execution_count": 17,
     "metadata": {},
     "output_type": "execute_result"
    }
   ],
   "source": [
    "model.fit(x_train_values, y_train_scores, group=groups, verbose=True)"
   ]
  },
  {
   "cell_type": "code",
   "execution_count": 29,
   "metadata": {
    "scrolled": true
   },
   "outputs": [
    {
     "name": "stdout",
     "output_type": "stream",
     "text": [
      "NDCG@5 Train Score: 0.5451838479277122\n"
     ]
    }
   ],
   "source": [
    "evaluate_model(X_train, y_train)"
   ]
  },
  {
   "cell_type": "code",
   "execution_count": 30,
   "metadata": {},
   "outputs": [
    {
     "name": "stdout",
     "output_type": "stream",
     "text": [
      "NDCG@5 Train Score: 0.34703839717622303\n"
     ]
    }
   ],
   "source": [
    "evaluate_model(X_val, y_val)"
   ]
  },
  {
   "cell_type": "code",
   "execution_count": 37,
   "metadata": {},
   "outputs": [],
   "source": [
    "load_test()"
   ]
  },
  {
   "cell_type": "code",
   "execution_count": 39,
   "metadata": {},
   "outputs": [],
   "source": [
    "predict(model, X_test)"
   ]
  },
  {
   "cell_type": "code",
   "execution_count": 51,
   "metadata": {},
   "outputs": [
    {
     "data": {
      "text/plain": [
       "array([ 60780, 124320, 227419, ..., 169657, 158138, 196192], dtype=int64)"
      ]
     },
     "execution_count": 51,
     "metadata": {},
     "output_type": "execute_result"
    }
   ],
   "source": [
    "np.argsort(predictions)"
   ]
  },
  {
   "cell_type": "code",
   "execution_count": 55,
   "metadata": {},
   "outputs": [
    {
     "data": {
      "text/plain": [
       "60780      23856\n",
       "124320     23512\n",
       "227419    138309\n",
       "133040     39748\n",
       "26201      60832\n",
       "           ...  \n",
       "132636    137997\n",
       "147771     21886\n",
       "169657    137997\n",
       "158138     62726\n",
       "196192     62726\n",
       "Name: prop_id, Length: 247567, dtype: int64"
      ]
     },
     "execution_count": 55,
     "metadata": {},
     "output_type": "execute_result"
    }
   ],
   "source": [
    "X_test['prop_id'].iloc[sorted_indices]"
   ]
  },
  {
   "cell_type": "markdown",
   "metadata": {},
   "source": [
    "# ---------------------------------------------------------------------------------------------------------------"
   ]
  },
  {
   "cell_type": "code",
   "execution_count": 56,
   "metadata": {},
   "outputs": [
    {
     "name": "stdout",
     "output_type": "stream",
     "text": [
      "Training / Validation shape:\n",
      "((174605, 49), (174605, 2)) ((74329, 49), (74329, 2))\n",
      "NDCG@5 Train Score: 0.5451838479277122\n",
      "NDCG@5 Train Score: 0.34703839717622303\n"
     ]
    },
    {
     "data": {
      "text/plain": [
       "XGBRanker(base_score=0.5, booster='gbtree', callbacks=None, colsample_bylevel=1,\n",
       "          colsample_bynode=1, colsample_bytree=1, early_stopping_rounds=None,\n",
       "          enable_categorical=False, eval_metric='ndcg@5', gamma=0, gpu_id=-1,\n",
       "          grow_policy='depthwise', importance_type=None,\n",
       "          interaction_constraints='', learning_rate=0.300000012, max_bin=256,\n",
       "          max_cat_to_onehot=4, max_delta_step=0, max_depth=6, max_leaves=0,\n",
       "          min_child_weight=1, missing=nan, monotone_constraints='()',\n",
       "          n_estimators=100, n_jobs=0, num_parallel_tree=1, predictor='auto',\n",
       "          random_state=0, reg_alpha=0, reg_lambda=1, ...)"
      ]
     },
     "execution_count": 56,
     "metadata": {},
     "output_type": "execute_result"
    }
   ],
   "source": [
    "model = run()\n",
    "make_submission(model)"
   ]
  },
  {
   "cell_type": "code",
   "execution_count": 59,
   "metadata": {},
   "outputs": [
    {
     "name": "stdout",
     "output_type": "stream",
     "text": [
      "Made submission\n"
     ]
    }
   ],
   "source": [
    "make_submission(model)"
   ]
  }
 ],
 "metadata": {
  "kernelspec": {
   "display_name": "Python 3",
   "language": "python",
   "name": "python3"
  },
  "language_info": {
   "codemirror_mode": {
    "name": "ipython",
    "version": 3
   },
   "file_extension": ".py",
   "mimetype": "text/x-python",
   "name": "python",
   "nbconvert_exporter": "python",
   "pygments_lexer": "ipython3",
   "version": "3.8.5"
  }
 },
 "nbformat": 4,
 "nbformat_minor": 4
}
