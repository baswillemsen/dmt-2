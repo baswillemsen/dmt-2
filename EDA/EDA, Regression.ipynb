{
 "cells": [
  {
   "cell_type": "code",
   "execution_count": 2,
   "metadata": {},
   "outputs": [],
   "source": [
    "import numpy as np\n",
    "import pandas as pd\n",
    "import matplotlib.pyplot as plt\n",
    "import warnings\n",
    "import datetime as dt\n",
    "\n",
    "import seaborn as sns\n",
    "sns.set(style=\"white\")\n",
    "sns.set(style=\"whitegrid\", color_codes=True)\n",
    "\n",
    "from sklearn import preprocessing\n",
    "from sklearn.model_selection import train_test_split\n",
    "from sklearn.linear_model import LogisticRegression\n",
    "\n",
    "from pandas.core.common import SettingWithCopyWarning\n",
    "warnings.simplefilter(action=\"ignore\", category=SettingWithCopyWarning)\n",
    "warnings.simplefilter(action=\"ignore\", category=FutureWarning)"
   ]
  },
  {
   "cell_type": "markdown",
   "metadata": {},
   "source": [
    "## 0. Read data, info"
   ]
  },
  {
   "cell_type": "code",
   "execution_count": 26,
   "metadata": {},
   "outputs": [
    {
     "name": "stdout",
     "output_type": "stream",
     "text": [
      "4958347\n",
      "[ 1  4  6  8 11 12 17 21 25 28]\n"
     ]
    },
    {
     "data": {
      "text/html": [
       "<div>\n",
       "<style scoped>\n",
       "    .dataframe tbody tr th:only-of-type {\n",
       "        vertical-align: middle;\n",
       "    }\n",
       "\n",
       "    .dataframe tbody tr th {\n",
       "        vertical-align: top;\n",
       "    }\n",
       "\n",
       "    .dataframe thead th {\n",
       "        text-align: right;\n",
       "    }\n",
       "</style>\n",
       "<table border=\"1\" class=\"dataframe\">\n",
       "  <thead>\n",
       "    <tr style=\"text-align: right;\">\n",
       "      <th></th>\n",
       "      <th>srch_id</th>\n",
       "      <th>date_time</th>\n",
       "      <th>site_id</th>\n",
       "      <th>visitor_location_country_id</th>\n",
       "      <th>visitor_hist_starrating</th>\n",
       "      <th>visitor_hist_adr_usd</th>\n",
       "      <th>prop_country_id</th>\n",
       "      <th>prop_id</th>\n",
       "      <th>prop_starrating</th>\n",
       "      <th>prop_review_score</th>\n",
       "      <th>...</th>\n",
       "      <th>comp6_rate_percent_diff</th>\n",
       "      <th>comp7_rate</th>\n",
       "      <th>comp7_inv</th>\n",
       "      <th>comp7_rate_percent_diff</th>\n",
       "      <th>comp8_rate</th>\n",
       "      <th>comp8_inv</th>\n",
       "      <th>comp8_rate_percent_diff</th>\n",
       "      <th>click_bool</th>\n",
       "      <th>gross_bookings_usd</th>\n",
       "      <th>booking_bool</th>\n",
       "    </tr>\n",
       "  </thead>\n",
       "  <tbody>\n",
       "    <tr>\n",
       "      <th>0</th>\n",
       "      <td>1</td>\n",
       "      <td>2013-04-04 08:32:15</td>\n",
       "      <td>12</td>\n",
       "      <td>187</td>\n",
       "      <td>NaN</td>\n",
       "      <td>NaN</td>\n",
       "      <td>219</td>\n",
       "      <td>893</td>\n",
       "      <td>3</td>\n",
       "      <td>3.5</td>\n",
       "      <td>...</td>\n",
       "      <td>NaN</td>\n",
       "      <td>NaN</td>\n",
       "      <td>NaN</td>\n",
       "      <td>NaN</td>\n",
       "      <td>0.0</td>\n",
       "      <td>0.0</td>\n",
       "      <td>NaN</td>\n",
       "      <td>0</td>\n",
       "      <td>NaN</td>\n",
       "      <td>0</td>\n",
       "    </tr>\n",
       "    <tr>\n",
       "      <th>1</th>\n",
       "      <td>1</td>\n",
       "      <td>2013-04-04 08:32:15</td>\n",
       "      <td>12</td>\n",
       "      <td>187</td>\n",
       "      <td>NaN</td>\n",
       "      <td>NaN</td>\n",
       "      <td>219</td>\n",
       "      <td>10404</td>\n",
       "      <td>4</td>\n",
       "      <td>4.0</td>\n",
       "      <td>...</td>\n",
       "      <td>NaN</td>\n",
       "      <td>NaN</td>\n",
       "      <td>NaN</td>\n",
       "      <td>NaN</td>\n",
       "      <td>0.0</td>\n",
       "      <td>0.0</td>\n",
       "      <td>NaN</td>\n",
       "      <td>0</td>\n",
       "      <td>NaN</td>\n",
       "      <td>0</td>\n",
       "    </tr>\n",
       "    <tr>\n",
       "      <th>2</th>\n",
       "      <td>1</td>\n",
       "      <td>2013-04-04 08:32:15</td>\n",
       "      <td>12</td>\n",
       "      <td>187</td>\n",
       "      <td>NaN</td>\n",
       "      <td>NaN</td>\n",
       "      <td>219</td>\n",
       "      <td>21315</td>\n",
       "      <td>3</td>\n",
       "      <td>4.5</td>\n",
       "      <td>...</td>\n",
       "      <td>NaN</td>\n",
       "      <td>NaN</td>\n",
       "      <td>NaN</td>\n",
       "      <td>NaN</td>\n",
       "      <td>0.0</td>\n",
       "      <td>0.0</td>\n",
       "      <td>NaN</td>\n",
       "      <td>0</td>\n",
       "      <td>NaN</td>\n",
       "      <td>0</td>\n",
       "    </tr>\n",
       "    <tr>\n",
       "      <th>3</th>\n",
       "      <td>1</td>\n",
       "      <td>2013-04-04 08:32:15</td>\n",
       "      <td>12</td>\n",
       "      <td>187</td>\n",
       "      <td>NaN</td>\n",
       "      <td>NaN</td>\n",
       "      <td>219</td>\n",
       "      <td>27348</td>\n",
       "      <td>2</td>\n",
       "      <td>4.0</td>\n",
       "      <td>...</td>\n",
       "      <td>NaN</td>\n",
       "      <td>NaN</td>\n",
       "      <td>NaN</td>\n",
       "      <td>NaN</td>\n",
       "      <td>-1.0</td>\n",
       "      <td>0.0</td>\n",
       "      <td>5.0</td>\n",
       "      <td>0</td>\n",
       "      <td>NaN</td>\n",
       "      <td>0</td>\n",
       "    </tr>\n",
       "    <tr>\n",
       "      <th>4</th>\n",
       "      <td>1</td>\n",
       "      <td>2013-04-04 08:32:15</td>\n",
       "      <td>12</td>\n",
       "      <td>187</td>\n",
       "      <td>NaN</td>\n",
       "      <td>NaN</td>\n",
       "      <td>219</td>\n",
       "      <td>29604</td>\n",
       "      <td>4</td>\n",
       "      <td>3.5</td>\n",
       "      <td>...</td>\n",
       "      <td>NaN</td>\n",
       "      <td>NaN</td>\n",
       "      <td>NaN</td>\n",
       "      <td>NaN</td>\n",
       "      <td>0.0</td>\n",
       "      <td>0.0</td>\n",
       "      <td>NaN</td>\n",
       "      <td>0</td>\n",
       "      <td>NaN</td>\n",
       "      <td>0</td>\n",
       "    </tr>\n",
       "  </tbody>\n",
       "</table>\n",
       "<p>5 rows × 54 columns</p>\n",
       "</div>"
      ],
      "text/plain": [
       "   srch_id            date_time  site_id  visitor_location_country_id  \\\n",
       "0        1  2013-04-04 08:32:15       12                          187   \n",
       "1        1  2013-04-04 08:32:15       12                          187   \n",
       "2        1  2013-04-04 08:32:15       12                          187   \n",
       "3        1  2013-04-04 08:32:15       12                          187   \n",
       "4        1  2013-04-04 08:32:15       12                          187   \n",
       "\n",
       "   visitor_hist_starrating  visitor_hist_adr_usd  prop_country_id  prop_id  \\\n",
       "0                      NaN                   NaN              219      893   \n",
       "1                      NaN                   NaN              219    10404   \n",
       "2                      NaN                   NaN              219    21315   \n",
       "3                      NaN                   NaN              219    27348   \n",
       "4                      NaN                   NaN              219    29604   \n",
       "\n",
       "   prop_starrating  prop_review_score  ...  comp6_rate_percent_diff  \\\n",
       "0                3                3.5  ...                      NaN   \n",
       "1                4                4.0  ...                      NaN   \n",
       "2                3                4.5  ...                      NaN   \n",
       "3                2                4.0  ...                      NaN   \n",
       "4                4                3.5  ...                      NaN   \n",
       "\n",
       "   comp7_rate  comp7_inv  comp7_rate_percent_diff  comp8_rate  comp8_inv  \\\n",
       "0         NaN        NaN                      NaN         0.0        0.0   \n",
       "1         NaN        NaN                      NaN         0.0        0.0   \n",
       "2         NaN        NaN                      NaN         0.0        0.0   \n",
       "3         NaN        NaN                      NaN        -1.0        0.0   \n",
       "4         NaN        NaN                      NaN         0.0        0.0   \n",
       "\n",
       "   comp8_rate_percent_diff  click_bool  gross_bookings_usd  booking_bool  \n",
       "0                      NaN           0                 NaN             0  \n",
       "1                      NaN           0                 NaN             0  \n",
       "2                      NaN           0                 NaN             0  \n",
       "3                      5.0           0                 NaN             0  \n",
       "4                      NaN           0                 NaN             0  \n",
       "\n",
       "[5 rows x 54 columns]"
      ]
     },
     "execution_count": 26,
     "metadata": {},
     "output_type": "execute_result"
    }
   ],
   "source": [
    "data_file_path = \"C:/Users/Bas/OneDrive/MSc. Artificial Intelligence VU/MSc. AI Year 1/Data Mining Techniques/Assignment 2/data/\"\n",
    "train = pd.read_csv(data_file_path + \"training_set_VU_DM.csv\", sep=',')\n",
    "print(len(train)) #4,958,347 rows\n",
    "print(np.sort(train['srch_id'].unique())[:10])\n",
    "train.head(5)"
   ]
  },
  {
   "cell_type": "code",
   "execution_count": 27,
   "metadata": {},
   "outputs": [
    {
     "name": "stdout",
     "output_type": "stream",
     "text": [
      "4959183\n",
      "[ 1  3  6  7 10 11 12 13 14 16]\n"
     ]
    }
   ],
   "source": [
    "test = pd.read_csv(data_file_path + \"test_set_VU_DM.csv\", sep=',')\n",
    "print(len(test)) #4,959,183 rows\n",
    "print(np.sort(test['srch_id'].unique())[:10])\n",
    "# test.head(5)\n",
    "\n",
    "# missing columns in test:             position, click_bool, gross_bookings_usd, nor booking_bool"
   ]
  },
  {
   "cell_type": "code",
   "execution_count": 5,
   "metadata": {},
   "outputs": [],
   "source": [
    "#export 5 training examples to excel to easily view\n",
    "for i in np.sort(train['srch_id'].unique())[:5]:\n",
    "    train[train['srch_id'] == i].to_excel('srch_id_' + str(i) + '.xlsx', sheet_name='new_sheet')"
   ]
  },
  {
   "cell_type": "code",
   "execution_count": 6,
   "metadata": {},
   "outputs": [
    {
     "data": {
      "text/plain": [
       "['srch_id',\n",
       " 'date_time',\n",
       " 'site_id',\n",
       " 'visitor_location_country_id',\n",
       " 'visitor_hist_starrating',\n",
       " 'visitor_hist_adr_usd',\n",
       " 'prop_country_id',\n",
       " 'prop_id',\n",
       " 'prop_starrating',\n",
       " 'prop_review_score',\n",
       " 'prop_brand_bool',\n",
       " 'prop_location_score1',\n",
       " 'prop_location_score2',\n",
       " 'prop_log_historical_price',\n",
       " 'position',\n",
       " 'price_usd',\n",
       " 'promotion_flag',\n",
       " 'srch_destination_id',\n",
       " 'srch_length_of_stay',\n",
       " 'srch_booking_window',\n",
       " 'srch_adults_count',\n",
       " 'srch_children_count',\n",
       " 'srch_room_count',\n",
       " 'srch_saturday_night_bool',\n",
       " 'srch_query_affinity_score',\n",
       " 'orig_destination_distance',\n",
       " 'random_bool',\n",
       " 'comp1_rate',\n",
       " 'comp1_inv',\n",
       " 'comp1_rate_percent_diff',\n",
       " 'comp2_rate',\n",
       " 'comp2_inv',\n",
       " 'comp2_rate_percent_diff',\n",
       " 'comp3_rate',\n",
       " 'comp3_inv',\n",
       " 'comp3_rate_percent_diff',\n",
       " 'comp4_rate',\n",
       " 'comp4_inv',\n",
       " 'comp4_rate_percent_diff',\n",
       " 'comp5_rate',\n",
       " 'comp5_inv',\n",
       " 'comp5_rate_percent_diff',\n",
       " 'comp6_rate',\n",
       " 'comp6_inv',\n",
       " 'comp6_rate_percent_diff',\n",
       " 'comp7_rate',\n",
       " 'comp7_inv',\n",
       " 'comp7_rate_percent_diff',\n",
       " 'comp8_rate',\n",
       " 'comp8_inv',\n",
       " 'comp8_rate_percent_diff',\n",
       " 'click_bool',\n",
       " 'gross_bookings_usd',\n",
       " 'booking_bool']"
      ]
     },
     "execution_count": 6,
     "metadata": {},
     "output_type": "execute_result"
    }
   ],
   "source": [
    "train.columns.to_list()"
   ]
  },
  {
   "cell_type": "code",
   "execution_count": 7,
   "metadata": {},
   "outputs": [
    {
     "name": "stdout",
     "output_type": "stream",
     "text": [
      "199795\n"
     ]
    }
   ],
   "source": [
    "print(len(train['srch_id'].unique()))"
   ]
  },
  {
   "cell_type": "code",
   "execution_count": 8,
   "metadata": {},
   "outputs": [
    {
     "name": "stdout",
     "output_type": "stream",
     "text": [
      "<class 'pandas.core.frame.DataFrame'>\n",
      "RangeIndex: 4958347 entries, 0 to 4958346\n",
      "Data columns (total 54 columns):\n",
      " #   Column                       Dtype  \n",
      "---  ------                       -----  \n",
      " 0   srch_id                      int64  \n",
      " 1   date_time                    object \n",
      " 2   site_id                      int64  \n",
      " 3   visitor_location_country_id  int64  \n",
      " 4   visitor_hist_starrating      float64\n",
      " 5   visitor_hist_adr_usd         float64\n",
      " 6   prop_country_id              int64  \n",
      " 7   prop_id                      int64  \n",
      " 8   prop_starrating              int64  \n",
      " 9   prop_review_score            float64\n",
      " 10  prop_brand_bool              int64  \n",
      " 11  prop_location_score1         float64\n",
      " 12  prop_location_score2         float64\n",
      " 13  prop_log_historical_price    float64\n",
      " 14  position                     int64  \n",
      " 15  price_usd                    float64\n",
      " 16  promotion_flag               int64  \n",
      " 17  srch_destination_id          int64  \n",
      " 18  srch_length_of_stay          int64  \n",
      " 19  srch_booking_window          int64  \n",
      " 20  srch_adults_count            int64  \n",
      " 21  srch_children_count          int64  \n",
      " 22  srch_room_count              int64  \n",
      " 23  srch_saturday_night_bool     int64  \n",
      " 24  srch_query_affinity_score    float64\n",
      " 25  orig_destination_distance    float64\n",
      " 26  random_bool                  int64  \n",
      " 27  comp1_rate                   float64\n",
      " 28  comp1_inv                    float64\n",
      " 29  comp1_rate_percent_diff      float64\n",
      " 30  comp2_rate                   float64\n",
      " 31  comp2_inv                    float64\n",
      " 32  comp2_rate_percent_diff      float64\n",
      " 33  comp3_rate                   float64\n",
      " 34  comp3_inv                    float64\n",
      " 35  comp3_rate_percent_diff      float64\n",
      " 36  comp4_rate                   float64\n",
      " 37  comp4_inv                    float64\n",
      " 38  comp4_rate_percent_diff      float64\n",
      " 39  comp5_rate                   float64\n",
      " 40  comp5_inv                    float64\n",
      " 41  comp5_rate_percent_diff      float64\n",
      " 42  comp6_rate                   float64\n",
      " 43  comp6_inv                    float64\n",
      " 44  comp6_rate_percent_diff      float64\n",
      " 45  comp7_rate                   float64\n",
      " 46  comp7_inv                    float64\n",
      " 47  comp7_rate_percent_diff      float64\n",
      " 48  comp8_rate                   float64\n",
      " 49  comp8_inv                    float64\n",
      " 50  comp8_rate_percent_diff      float64\n",
      " 51  click_bool                   int64  \n",
      " 52  gross_bookings_usd           float64\n",
      " 53  booking_bool                 int64  \n",
      "dtypes: float64(34), int64(19), object(1)\n",
      "memory usage: 2.0+ GB\n"
     ]
    }
   ],
   "source": [
    "train.info()"
   ]
  },
  {
   "cell_type": "code",
   "execution_count": 9,
   "metadata": {},
   "outputs": [
    {
     "data": {
      "text/plain": [
       "srch_id                        0.000000\n",
       "date_time                      0.000000\n",
       "site_id                        0.000000\n",
       "visitor_location_country_id    0.000000\n",
       "visitor_hist_starrating        0.949204\n",
       "visitor_hist_adr_usd           0.948977\n",
       "prop_country_id                0.000000\n",
       "prop_id                        0.000000\n",
       "prop_starrating                0.000000\n",
       "prop_review_score              0.001485\n",
       "prop_brand_bool                0.000000\n",
       "prop_location_score1           0.000000\n",
       "prop_location_score2           0.219902\n",
       "prop_log_historical_price      0.000000\n",
       "position                       0.000000\n",
       "price_usd                      0.000000\n",
       "promotion_flag                 0.000000\n",
       "srch_destination_id            0.000000\n",
       "srch_length_of_stay            0.000000\n",
       "srch_booking_window            0.000000\n",
       "srch_adults_count              0.000000\n",
       "srch_children_count            0.000000\n",
       "srch_room_count                0.000000\n",
       "srch_saturday_night_bool       0.000000\n",
       "srch_query_affinity_score      0.935986\n",
       "orig_destination_distance      0.324258\n",
       "random_bool                    0.000000\n",
       "comp1_rate                     0.975813\n",
       "comp1_inv                      0.973871\n",
       "comp1_rate_percent_diff        0.980954\n",
       "comp2_rate                     0.591664\n",
       "comp2_inv                      0.570367\n",
       "comp2_rate_percent_diff        0.887818\n",
       "comp3_rate                     0.690565\n",
       "comp3_inv                      0.667028\n",
       "comp3_rate_percent_diff        0.904646\n",
       "comp4_rate                     0.938008\n",
       "comp4_inv                      0.930690\n",
       "comp4_rate_percent_diff        0.973563\n",
       "comp5_rate                     0.551792\n",
       "comp5_inv                      0.524031\n",
       "comp5_rate_percent_diff        0.830367\n",
       "comp6_rate                     0.951565\n",
       "comp6_inv                      0.947366\n",
       "comp6_rate_percent_diff        0.980604\n",
       "comp7_rate                     0.936401\n",
       "comp7_inv                      0.928117\n",
       "comp7_rate_percent_diff        0.972064\n",
       "comp8_rate                     0.613449\n",
       "comp8_inv                      0.599160\n",
       "comp8_rate_percent_diff        0.876021\n",
       "click_bool                     0.000000\n",
       "gross_bookings_usd             0.972089\n",
       "booking_bool                   0.000000\n",
       "dtype: float64"
      ]
     },
     "execution_count": 9,
     "metadata": {},
     "output_type": "execute_result"
    }
   ],
   "source": [
    "train.isna().sum()/len(train) #perc of missing obs"
   ]
  },
  {
   "cell_type": "code",
   "execution_count": 10,
   "metadata": {},
   "outputs": [
    {
     "data": {
      "text/plain": [
       "1         28\n",
       "4         32\n",
       "6          5\n",
       "8         21\n",
       "11        33\n",
       "          ..\n",
       "332777    32\n",
       "332781    15\n",
       "332782    24\n",
       "332784    28\n",
       "332785     6\n",
       "Name: srch_id, Length: 199795, dtype: int64"
      ]
     },
     "execution_count": 10,
     "metadata": {},
     "output_type": "execute_result"
    }
   ],
   "source": [
    "train['srch_id'].value_counts().sort_index()"
   ]
  },
  {
   "cell_type": "markdown",
   "metadata": {},
   "source": [
    "## 1. Get smaller subset, computational limitations"
   ]
  },
  {
   "cell_type": "code",
   "execution_count": 11,
   "metadata": {},
   "outputs": [
    {
     "data": {
      "text/plain": [
       "array([    1,     4,     6, ..., 16672, 16673, 16674], dtype=int64)"
      ]
     },
     "execution_count": 11,
     "metadata": {},
     "output_type": "execute_result"
    }
   ],
   "source": [
    "train['srch_id'].unique()[:10000] #ids are not 1,2,3,..."
   ]
  },
  {
   "cell_type": "code",
   "execution_count": 18,
   "metadata": {},
   "outputs": [
    {
     "data": {
      "text/plain": [
       "500"
      ]
     },
     "execution_count": 18,
     "metadata": {},
     "output_type": "execute_result"
    }
   ],
   "source": [
    "#Smaller subset of 500 searches:\n",
    "train_subset = train[train['srch_id'] < 864]\n",
    "len(train_subset['srch_id'].unique())"
   ]
  },
  {
   "cell_type": "code",
   "execution_count": 19,
   "metadata": {},
   "outputs": [],
   "source": [
    "d = {}\n",
    "for search in list(train_subset['srch_id'].unique()):\n",
    "    d[\"srch_id_{0}\".format(search)] = train_subset[train_subset['srch_id']==search]"
   ]
  },
  {
   "cell_type": "code",
   "execution_count": 20,
   "metadata": {},
   "outputs": [
    {
     "data": {
      "text/plain": [
       "0    11755\n",
       "1      343\n",
       "Name: booking_bool, dtype: int64"
      ]
     },
     "execution_count": 20,
     "metadata": {},
     "output_type": "execute_result"
    }
   ],
   "source": [
    "y = train_subset['booking_bool']\n",
    "y.value_counts() #343 out of 500 searches have resulted in a booking"
   ]
  },
  {
   "cell_type": "code",
   "execution_count": 28,
   "metadata": {},
   "outputs": [
    {
     "ename": "NameError",
     "evalue": "name 'train_subset' is not defined",
     "output_type": "error",
     "traceback": [
      "\u001b[1;31m---------------------------------------------------------------------------\u001b[0m",
      "\u001b[1;31mNameError\u001b[0m                                 Traceback (most recent call last)",
      "\u001b[1;32m<ipython-input-28-57024b5558cf>\u001b[0m in \u001b[0;36m<module>\u001b[1;34m\u001b[0m\n\u001b[1;32m----> 1\u001b[1;33m \u001b[0mtrain_subset\u001b[0m\u001b[1;33m.\u001b[0m\u001b[0mgroupby\u001b[0m\u001b[1;33m(\u001b[0m\u001b[1;34m'booking_bool'\u001b[0m\u001b[1;33m)\u001b[0m\u001b[1;33m.\u001b[0m\u001b[0mmean\u001b[0m\u001b[1;33m(\u001b[0m\u001b[1;33m)\u001b[0m\u001b[1;33m\u001b[0m\u001b[1;33m\u001b[0m\u001b[0m\n\u001b[0m",
      "\u001b[1;31mNameError\u001b[0m: name 'train_subset' is not defined"
     ]
    }
   ],
   "source": [
    "train_subset.groupby('booking_bool').mean()"
   ]
  },
  {
   "cell_type": "markdown",
   "metadata": {},
   "source": [
    "## Competitive info"
   ]
  },
  {
   "cell_type": "code",
   "execution_count": 29,
   "metadata": {},
   "outputs": [
    {
     "name": "stdout",
     "output_type": "stream",
     "text": [
      "comp1_inv\n",
      "4838417\n",
      " 1.0    67256\n",
      " 0.0    42959\n",
      "-1.0     9715\n",
      "Name: comp1_rate, dtype: int64\n",
      "4828788\n",
      " 0.0    122599\n",
      " 1.0      5492\n",
      "-1.0      1468\n",
      "Name: comp1_inv, dtype: int64\n",
      "comp2_inv\n",
      "2933675\n",
      " 0.0    1613590\n",
      " 1.0     250276\n",
      "-1.0     160806\n",
      "Name: comp2_rate, dtype: int64\n",
      "2828078\n",
      " 0.0    2010094\n",
      " 1.0     101958\n",
      "-1.0      18217\n",
      "Name: comp2_inv, dtype: int64\n",
      "comp3_inv\n",
      "3424059\n",
      " 0.0    1212580\n",
      " 1.0     174118\n",
      "-1.0     147590\n",
      "Name: comp3_rate, dtype: int64\n",
      "3307357\n",
      " 0.0    1501978\n",
      " 1.0     122194\n",
      "-1.0      26818\n",
      "Name: comp3_inv, dtype: int64\n",
      "comp4_inv\n",
      "4650969\n",
      " 0.0    204349\n",
      "-1.0     54057\n",
      " 1.0     48972\n",
      "Name: comp4_rate, dtype: int64\n",
      "4614684\n",
      " 0.0    301385\n",
      " 1.0     37747\n",
      "-1.0      4531\n",
      "Name: comp4_inv, dtype: int64\n",
      "comp5_inv\n",
      "2735974\n",
      " 0.0    1616232\n",
      " 1.0     328268\n",
      "-1.0     277873\n",
      "Name: comp5_rate, dtype: int64\n",
      "2598327\n",
      " 0.0    2184479\n",
      " 1.0     148457\n",
      "-1.0      27084\n",
      "Name: comp5_inv, dtype: int64\n",
      "comp6_inv\n",
      "4718190\n",
      " 0.0    160932\n",
      " 1.0     55022\n",
      "-1.0     24203\n",
      "Name: comp6_rate, dtype: int64\n",
      "4697371\n",
      " 0.0    235563\n",
      " 1.0     22618\n",
      "-1.0      2795\n",
      "Name: comp6_inv, dtype: int64\n",
      "comp7_inv\n",
      "4642999\n",
      " 0.0    203203\n",
      " 1.0     79088\n",
      "-1.0     33057\n",
      "Name: comp7_rate, dtype: int64\n",
      "4601925\n",
      " 0.0    318201\n",
      " 1.0     33938\n",
      "-1.0      4283\n",
      "Name: comp7_inv, dtype: int64\n",
      "comp8_inv\n",
      "3041693\n",
      " 0.0    1487647\n",
      "-1.0     272865\n",
      " 1.0     156142\n",
      "Name: comp8_rate, dtype: int64\n",
      "2970844\n",
      " 0.0    1905472\n",
      " 1.0      50916\n",
      "-1.0      31115\n",
      "Name: comp8_inv, dtype: int64\n"
     ]
    }
   ],
   "source": [
    "for comp in [1,2,3,4,5,6,7,8]:\n",
    "    print(\"comp{0}_inv\".format(comp))\n",
    "    \n",
    "    print(train[\"comp{0}_rate\".format(comp)].isnull().sum())\n",
    "    print(train[\"comp{0}_rate\".format(comp)].value_counts())\n",
    "    \n",
    "    print(train[\"comp{0}_inv\".format(comp)].isnull().sum())\n",
    "    print(train[\"comp{0}_inv\".format(comp)].value_counts())"
   ]
  },
  {
   "cell_type": "code",
   "execution_count": null,
   "metadata": {},
   "outputs": [],
   "source": []
  }
 ],
 "metadata": {
  "kernelspec": {
   "display_name": "Python 3",
   "language": "python",
   "name": "python3"
  },
  "language_info": {
   "codemirror_mode": {
    "name": "ipython",
    "version": 3
   },
   "file_extension": ".py",
   "mimetype": "text/x-python",
   "name": "python",
   "nbconvert_exporter": "python",
   "pygments_lexer": "ipython3",
   "version": "3.8.5"
  }
 },
 "nbformat": 4,
 "nbformat_minor": 4
}
